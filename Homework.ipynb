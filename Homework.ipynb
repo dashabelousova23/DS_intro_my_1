{
  "nbformat": 4,
  "nbformat_minor": 0,
  "metadata": {
    "colab": {
      "provenance": [],
      "authorship_tag": "ABX9TyMdEtVMhCyWn7nSw4V32+FD",
      "include_colab_link": true
    },
    "kernelspec": {
      "name": "python3",
      "display_name": "Python 3"
    },
    "language_info": {
      "name": "python"
    }
  },
  "cells": [
    {
      "cell_type": "markdown",
      "metadata": {
        "id": "view-in-github",
        "colab_type": "text"
      },
      "source": [
        "<a href=\"https://colab.research.google.com/github/dashabelousova23/DS_intro_my_1/blob/main/Homework.ipynb\" target=\"_parent\"><img src=\"https://colab.research.google.com/assets/colab-badge.svg\" alt=\"Open In Colab\"/></a>"
      ]
    },
    {
      "cell_type": "markdown",
      "source": [
        "Белоусова Дарья. Введение в Date Science. Домашка 1."
      ],
      "metadata": {
        "id": "_boyJEHQX4Ct"
      }
    },
    {
      "cell_type": "code",
      "execution_count": 2,
      "metadata": {
        "id": "S27AJe4Ydaqg",
        "outputId": "dd55bc65-9cee-4792-b50f-14372446d069",
        "colab": {
          "base_uri": "https://localhost:8080/"
        }
      },
      "outputs": [
        {
          "output_type": "stream",
          "name": "stdout",
          "text": [
            "-2\n",
            "0\n",
            "4\n",
            "-2x^2+4\n"
          ]
        }
      ],
      "source": [
        "## Задача 1.\n",
        "a = int(input())\n",
        "b = int(input())\n",
        "c = int(input())\n",
        "if a > 0 or a < 0:\n",
        "  if b > 0:\n",
        "    if c > 0:\n",
        "      print(f'{a}x^2+{b}x+{c}')\n",
        "    elif c == 0:\n",
        "      print(f'{a}x^2+{b}x')\n",
        "    else:\n",
        "      print(f'{a}x^2+{b}x{c}')\n",
        "  elif b == 0:\n",
        "    if c > 0:\n",
        "      print(f'{a}x^2+{c}')\n",
        "    elif c == 0:\n",
        "      print(f'{a}x^2')\n",
        "    else:\n",
        "      print(f'{a}x^2{c}')\n",
        "  else:\n",
        "    if c > 0:\n",
        "        print(f'{a}x^2{b}x+{c}')\n",
        "    elif c == 0:\n",
        "        print(f'{a}x^2{b}x')\n",
        "    else:\n",
        "        print(f'{a}x^2{b}x{c}')\n",
        "elif a == 0:\n",
        "  if b > 0:\n",
        "    if c > 0:\n",
        "      print(f'{b}x+{c}')\n",
        "    elif c == 0:\n",
        "      print(f'{b}x')\n",
        "    else:\n",
        "      print(f'{b}x{c}')\n",
        "  elif b == 0:\n",
        "    if c > 0 or c < 0:\n",
        "      print(f'{c}')\n",
        "    if c == 0:\n",
        "      print('0')"
      ]
    },
    {
      "cell_type": "code",
      "source": [
        "## Задача 2.\n",
        "N = int(input())\n",
        "summa = 0\n",
        "for i in range(1, N):\n",
        "  summa += i\n",
        "print(summa)"
      ],
      "metadata": {
        "id": "M5H4rUnAY5Iy",
        "outputId": "635e74aa-de5a-4fd2-f1e5-c16b51a75d04",
        "colab": {
          "base_uri": "https://localhost:8080/"
        }
      },
      "execution_count": null,
      "outputs": [
        {
          "output_type": "stream",
          "name": "stdout",
          "text": [
            "5\n",
            "10\n"
          ]
        }
      ]
    },
    {
      "cell_type": "code",
      "source": [],
      "metadata": {
        "id": "qel7p2wTebpg"
      },
      "execution_count": null,
      "outputs": []
    }
  ]
}