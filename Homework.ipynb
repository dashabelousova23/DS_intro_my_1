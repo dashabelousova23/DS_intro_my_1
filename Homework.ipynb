{
  "nbformat": 4,
  "nbformat_minor": 0,
  "metadata": {
    "colab": {
      "provenance": [],
      "authorship_tag": "ABX9TyOVSnf23fkilh8qtrXtTZ0q",
      "include_colab_link": true
    },
    "kernelspec": {
      "name": "python3",
      "display_name": "Python 3"
    },
    "language_info": {
      "name": "python"
    }
  },
  "cells": [
    {
      "cell_type": "markdown",
      "metadata": {
        "id": "view-in-github",
        "colab_type": "text"
      },
      "source": [
        "<a href=\"https://colab.research.google.com/github/dashabelousova23/DS_intro_my_1/blob/main/Homework.ipynb\" target=\"_parent\"><img src=\"https://colab.research.google.com/assets/colab-badge.svg\" alt=\"Open In Colab\"/></a>"
      ]
    },
    {
      "cell_type": "markdown",
      "source": [
        "Белоусова Дарья. Введение в Date Science. Домашка 1."
      ],
      "metadata": {
        "id": "_boyJEHQX4Ct"
      }
    },
    {
      "cell_type": "code",
      "execution_count": 2,
      "metadata": {
        "id": "S27AJe4Ydaqg",
        "outputId": "d5e3ff22-9bbe-4fc5-9ff2-b1f300726496",
        "colab": {
          "base_uri": "https://localhost:8080/"
        }
      },
      "outputs": [
        {
          "output_type": "stream",
          "name": "stdout",
          "text": [
            "Коэффициент a:1\n",
            "Коэффициент b:4\n",
            "Коэффициент c:3\n",
            "1x^2+4x+3=0\n",
            "Дискриминант: 4\n",
            "Первый корень: -3.\n",
            "Второй корень: -1.\n"
          ]
        }
      ],
      "source": [
        "## Задача 1.\n",
        "a = int(input('Коэффициент a:'))\n",
        "b = int(input('Коэффициент b:'))\n",
        "c = int(input('Коэффициент c:'))\n",
        "print(f'{a}x^2+{b}x+{c}=0')\n",
        "d = b ** 2 - (4 * a * c)\n",
        "print(f'Дискриминант: {d}')\n",
        "d = b * b - 4 * a * c\n",
        "if d > 0:\n",
        "  x1 = (-b - (b**2 - 4*a*c)**0.5) / (2 * a)\n",
        "  x2 = (-b + d**0.5) / (2 * a)\n",
        "  print(\"Первый корень:\", int(x1), end=\".\\n\")\n",
        "  print(\"Второй корень:\", int(x2), end=\".\\n\")\n",
        "elif d == 0:\n",
        "  x = -b / (2 * a)\n",
        "  print(\"Один корень: \" + str(x))\n",
        "else:\n",
        "  print(\"Корней нет, т.к. дискриминант отрицательный\")"
      ]
    },
    {
      "cell_type": "code",
      "source": [
        "## Задача 2.\n",
        "N = int(input())\n",
        "summa = 0\n",
        "for i in range(1, N):\n",
        "  summa += i\n",
        "print(summa)"
      ],
      "metadata": {
        "id": "M5H4rUnAY5Iy",
        "outputId": "635e74aa-de5a-4fd2-f1e5-c16b51a75d04",
        "colab": {
          "base_uri": "https://localhost:8080/"
        }
      },
      "execution_count": null,
      "outputs": [
        {
          "output_type": "stream",
          "name": "stdout",
          "text": [
            "5\n",
            "10\n"
          ]
        }
      ]
    },
    {
      "cell_type": "code",
      "source": [
        "## Задача 3.\n",
        "a = int(input(\"Номер квартиры: \"))\n",
        "b = 20 ## квартиры в каждом подъезде\n",
        "c = 4 ## квартиры на каждом этаже\n",
        "d = (a - 1) // b + 1 ## подъезд\n",
        "e = ((a - 1) % b) // c + 1 ## этаж\n",
        "print(f'Квартира №{a} находится на {e} этаже {d}-го подъезда')"
      ],
      "metadata": {
        "colab": {
          "base_uri": "https://localhost:8080/"
        },
        "id": "qel7p2wTebpg",
        "outputId": "4dfe97bd-39ad-4cb0-ef70-c1f2de14bc9b"
      },
      "execution_count": 4,
      "outputs": [
        {
          "output_type": "stream",
          "name": "stdout",
          "text": [
            "Номер квартиры: 8\n",
            "Квартира №8 находится на 2 этаже 1-го подъезда\n"
          ]
        }
      ]
    }
  ]
}